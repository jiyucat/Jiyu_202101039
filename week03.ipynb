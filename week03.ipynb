{
 "cells": [
  {
   "cell_type": "markdown",
   "id": "b7740c0c",
   "metadata": {},
   "source": [
    "## 중첩 조건문 | nested conditional\n",
    "- if 블록 안에 또 if 블록이 만들어지는 경우\n",
    "    - 예) if ....\n",
    "                if....\n",
    "                    if...\n",
    "    - 구분은 들여쓰기로 한다.\n",
    "    - 조건이 여러 개일 경우 사용한다.\n",
    "    - 지양, 더 가독성이 좋은 코드를 찾도록 한다. "
   ]
  },
  {
   "cell_type": "code",
   "execution_count": 6,
   "id": "5f596bf3",
   "metadata": {
    "scrolled": true
   },
   "outputs": [
    {
     "name": "stdout",
     "output_type": "stream",
     "text": [
      "Block B\n"
     ]
    }
   ],
   "source": [
    "#중첩 조건문을 사용\n",
    "\n",
    "x = 0\n",
    "y = 4\n",
    "\n",
    "if x == y:\n",
    "    print(\"Block A\")\n",
    "else:\n",
    "    if x < y:\n",
    "        print(\"Block B\")\n",
    "    else:\n",
    "        print(\"Block C\")\n",
    "    "
   ]
  },
  {
   "cell_type": "code",
   "execution_count": 7,
   "id": "b5937e2d",
   "metadata": {},
   "outputs": [
    {
     "name": "stdout",
     "output_type": "stream",
     "text": [
      "Block B\n"
     ]
    }
   ],
   "source": [
    "#elif를 사용하여 나타내기 \n",
    "\n",
    "if x == y:\n",
    "    print('Block A')\n",
    "elif x < y:\n",
    "    print('Block B')\n",
    "else:\n",
    "    print('Block C')"
   ]
  },
  {
   "cell_type": "code",
   "execution_count": 8,
   "id": "0e08d6a2",
   "metadata": {},
   "outputs": [
    {
     "name": "stdout",
     "output_type": "stream",
     "text": [
      "D\n"
     ]
    }
   ],
   "source": [
    "# 중첩조건문 (0 < x < 10 라는 조건이 주어졌을 때)\n",
    "\n",
    "if x > 0:\n",
    "    print('A')\n",
    "    if x < 10:\n",
    "        print('B')\n",
    "    else:\n",
    "        print('C')\n",
    "else:\n",
    "    print('D')"
   ]
  },
  {
   "cell_type": "code",
   "execution_count": 9,
   "id": "31d23a6b",
   "metadata": {},
   "outputs": [
    {
     "name": "stdout",
     "output_type": "stream",
     "text": [
      "B\n",
      "B\n"
     ]
    }
   ],
   "source": [
    "#방법 1\n",
    "#논리 연산자를 사용하는 방법\n",
    "if (x > 0) and (x < 10): \n",
    "    print(\"A\")\n",
    "else:\n",
    "    print(\"B\")\n",
    "\n",
    "#방법2\n",
    "#파이썬에서만 가능함\n",
    "if 0 < x < 10: \n",
    "    print('A')\n",
    "else:\n",
    "    print('B')\n",
    "    "
   ]
  },
  {
   "cell_type": "markdown",
   "id": "f7d44742",
   "metadata": {},
   "source": [
    "### 논리연산자\n",
    "- 비교연산 조건을 여러 번 사용하는 경우\n",
    "    - x>0, x<10\n",
    "    \n",
    "- and, or, not\n",
    "    - A and B (A&B) : A그리고 B, A,B 둘다 참일 때 True \n",
    "    - A or B (A|B) : A혹은 B, 둘 중 하나만 참이면 True\n",
    "    - not A(~A): A 참이면 False, 거짓이면 True"
   ]
  },
  {
   "cell_type": "markdown",
   "id": "3b97a5f9",
   "metadata": {},
   "source": [
    "### True/False \n",
    "- A = True \n",
    "- '만약 A가 참이면...'"
   ]
  },
  {
   "cell_type": "code",
   "execution_count": 17,
   "id": "30d8c3ca",
   "metadata": {},
   "outputs": [
    {
     "name": "stdout",
     "output_type": "stream",
     "text": [
      "a\n",
      "a\n"
     ]
    }
   ],
   "source": [
    "a = True \n",
    "\n",
    "if a == True: #이렇게 쓸 필요 없음\n",
    "    print('a')\n",
    "    \n",
    "if a: #if a == True와 같은 뜻임 \n",
    "    print('a')"
   ]
  },
  {
   "cell_type": "markdown",
   "id": "228b1c71",
   "metadata": {},
   "source": [
    "### in \n",
    "- membership operator\n",
    "- 요소가 안에 포함되어 있는가\n",
    "    - ex) A in B = A가 B 안에 포함되어 있는가?\n",
    "- 비슷한 조건문이 여럿일 때 in을 사용하여 간단하게 나타내자"
   ]
  },
  {
   "cell_type": "code",
   "execution_count": 18,
   "id": "a03cef1a",
   "metadata": {},
   "outputs": [
    {
     "name": "stdout",
     "output_type": "stream",
     "text": [
      "자음\n"
     ]
    }
   ],
   "source": [
    "# example1 | 모음인지 아닌지 판단하라\n",
    "\n",
    "letter = 'k'\n",
    "\n",
    "#if letter == 'a' or letter == 'e'...\n",
    "#ㄴ이렇게 쓰면 비슷한 조건문이 여럿, 너무 지저분함\n",
    "\n",
    "if letter in ['a','e','i','o','u']: #간단하게 나타내보자\n",
    "    print('모음')\n",
    "else: print('자음')"
   ]
  },
  {
   "cell_type": "code",
   "execution_count": 19,
   "id": "3cff30a2",
   "metadata": {},
   "outputs": [],
   "source": [
    "# example2 | 단어에 모음이 있는지 없는지 확인하라\n",
    "\n",
    "word = 'apple'\n",
    "\n",
    "if word in ['a','e','i','o','u']: #반대로 써야 함\n",
    "    print('모음이 있다.')"
   ]
  },
  {
   "cell_type": "code",
   "execution_count": 20,
   "id": "4f5a2110",
   "metadata": {},
   "outputs": [
    {
     "ename": "TypeError",
     "evalue": "'in <string>' requires string as left operand, not list",
     "output_type": "error",
     "traceback": [
      "\u001b[1;31m---------------------------------------------------------------------------\u001b[0m",
      "\u001b[1;31mTypeError\u001b[0m                                 Traceback (most recent call last)",
      "\u001b[1;32m~\\AppData\\Local\\Temp/ipykernel_8576/1167518182.py\u001b[0m in \u001b[0;36m<module>\u001b[1;34m\u001b[0m\n\u001b[1;32m----> 1\u001b[1;33m \u001b[1;32mif\u001b[0m \u001b[1;33m[\u001b[0m\u001b[1;34m'a'\u001b[0m\u001b[1;33m,\u001b[0m\u001b[1;34m'e'\u001b[0m\u001b[1;33m,\u001b[0m\u001b[1;34m'i'\u001b[0m\u001b[1;33m,\u001b[0m\u001b[1;34m'o'\u001b[0m\u001b[1;33m,\u001b[0m\u001b[1;34m'u'\u001b[0m\u001b[1;33m]\u001b[0m \u001b[1;32min\u001b[0m \u001b[0mword\u001b[0m\u001b[1;33m:\u001b[0m\u001b[1;31m#타입 에러가 남\u001b[0m\u001b[1;33m\u001b[0m\u001b[1;33m\u001b[0m\u001b[0m\n\u001b[0m\u001b[0;32m      2\u001b[0m     \u001b[0mprint\u001b[0m\u001b[1;33m(\u001b[0m\u001b[1;34m'모음이 있다.'\u001b[0m\u001b[1;33m)\u001b[0m\u001b[1;33m\u001b[0m\u001b[1;33m\u001b[0m\u001b[0m\n",
      "\u001b[1;31mTypeError\u001b[0m: 'in <string>' requires string as left operand, not list"
     ]
    }
   ],
   "source": [
    "if ['a','e','i','o','u'] in word:#타입 에러가 남 \n",
    "    print('모음이 있다.')"
   ]
  },
  {
   "cell_type": "code",
   "execution_count": 21,
   "id": "0cd8a83a",
   "metadata": {},
   "outputs": [
    {
     "name": "stdout",
     "output_type": "stream",
     "text": [
      "모음이 있다. \n"
     ]
    }
   ],
   "source": [
    "if 'a'or'e'or'i'or'o'or'u' in word:#맞는 코드\n",
    "    print('모음이 있다. ')"
   ]
  },
  {
   "cell_type": "markdown",
   "id": "2a3a6225",
   "metadata": {},
   "source": [
    "### 코끼리연산자\n",
    "- walrus operator \n",
    "- :=\n",
    "- 할당과 테스트를 동시에 하는 기능 "
   ]
  },
  {
   "cell_type": "code",
   "execution_count": 22,
   "id": "7291a084",
   "metadata": {},
   "outputs": [
    {
     "name": "stdout",
     "output_type": "stream",
     "text": [
      "불가능하다.\n"
     ]
    }
   ],
   "source": [
    "tweet_limit = 200\n",
    "tweet_string = 'blah'*50 #4*50 = 200 #공백없이 blah를 50번 반복\n",
    "\n",
    "diff = tweet_limit - len(tweet_string)\n",
    "if diff >0:\n",
    "    print('가능하다')\n",
    "else:\n",
    "    print('불가능하다.')\n"
   ]
  },
  {
   "cell_type": "code",
   "execution_count": 24,
   "id": "78acc40a",
   "metadata": {},
   "outputs": [
    {
     "name": "stdout",
     "output_type": "stream",
     "text": [
      "불가능하다\n"
     ]
    }
   ],
   "source": [
    "#코끼리연산자를 통해 더 깔끔하게\n",
    "\n",
    "if diff := tweet_limit - len(tweet_string)>0:\n",
    "        print('가능하다')\n",
    "else:print ('불가능하다')"
   ]
  },
  {
   "cell_type": "markdown",
   "id": "18c89460",
   "metadata": {},
   "source": [
    "### Quiz1\n",
    "- 윤년을 구해봅시다.\n",
    "    - 년도를 입력받는다.\n",
    "    - 4로 나누어지면 윤년\n",
    "    - 100으로 나눠지면 안됨\n",
    "    - 400으로 나눠지면 윤년\n",
    "- 출력: '{}년은 윤년입니다. ''{}년은 윤년이 아닙니다.'"
   ]
  },
  {
   "cell_type": "code",
   "execution_count": 25,
   "id": "64af5f18",
   "metadata": {},
   "outputs": [
    {
     "name": "stdout",
     "output_type": "stream",
     "text": [
      "년도를 입력하세요:2022\n",
      "2022년은 윤년이 아닙니다\n"
     ]
    }
   ],
   "source": [
    "year = int(input('년도를 입력하세요:'))\n",
    "\n",
    "if (year % 4 == 0 and year % 100 != 0) or (year % 400 == 0):\n",
    "    print(f'{year}년은 윤년입니다')\n",
    "else:\n",
    "    print(f'{year}년은 윤년이 아닙니다')"
   ]
  },
  {
   "cell_type": "markdown",
   "id": "fa548140",
   "metadata": {},
   "source": [
    "# Ch.5"
   ]
  },
  {
   "cell_type": "markdown",
   "id": "a4f27e93",
   "metadata": {},
   "source": [
    "## string | 문자열 \n",
    "- 시스템에서 가장 작은 단위\n",
    "- 불변적인 성격을 가진다. (immurable)\n",
    "    - ex) jack -> jeck(불가능)\n",
    "- '',\"\"으로 선언한다.\n",
    "    - 예: '25.25' #얘도 str이다.\n",
    "- 형변환은 str()을 사용한다. \n",
    "\n",
    "### escape character | 이스케이프 문자\n",
    "- 특수한 형태의 문자열\n",
    "- 눈에 보이는 대로 인식되지 않는 문자\n",
    "- \\ + ch \n",
    "    - 예: \\n, \\t, \\b, \\', \\\",...\n",
    "        - \\n을 출력하고 싶다? : \n",
    "        -한 번 더 써주면 됨\n",
    "            - \\\\n\n",
    "        - r''을 써도 된다.\n",
    "- 다른 스트링을 만드는 것이 아님(출력의 문제임)"
   ]
  },
  {
   "cell_type": "code",
   "execution_count": 30,
   "id": "841ee5ea",
   "metadata": {},
   "outputs": [
    {
     "name": "stdout",
     "output_type": "stream",
     "text": [
      "hello\tworld\n",
      "hello\\tworld\n",
      "hello\\tworld\n"
     ]
    }
   ],
   "source": [
    "sent = 'hello\\tworld'#이스케이프 문자 사용, \\t출력x\n",
    "print(sent)\n",
    "\n",
    "sent = 'hello\\\\tworld'#\\t 출력하는 법1\n",
    "print(sent)\n",
    "\n",
    "sent = r'hello\\tworld'#\\t 출력하고 법2\n",
    "print(sent)"
   ]
  },
  {
   "cell_type": "code",
   "execution_count": 27,
   "id": "283de2fe",
   "metadata": {},
   "outputs": [
    {
     "ename": "SyntaxError",
     "evalue": "invalid syntax (Temp/ipykernel_8576/510052602.py, line 1)",
     "output_type": "error",
     "traceback": [
      "\u001b[1;36m  File \u001b[1;32m\"C:\\Users\\irisc\\AppData\\Local\\Temp/ipykernel_8576/510052602.py\"\u001b[1;36m, line \u001b[1;32m1\u001b[0m\n\u001b[1;33m    'i'm a student'#갯수가 맞지 않기 때문에 오류가 남\u001b[0m\n\u001b[1;37m       ^\u001b[0m\n\u001b[1;31mSyntaxError\u001b[0m\u001b[1;31m:\u001b[0m invalid syntax\n"
     ]
    }
   ],
   "source": [
    "'i'm a student'#갯수가 맞지 않기 때문에 오류가 남 "
   ]
  },
  {
   "cell_type": "code",
   "execution_count": 31,
   "id": "0c51bc57",
   "metadata": {},
   "outputs": [
    {
     "data": {
      "text/plain": [
       "\"i'm a student\""
      ]
     },
     "execution_count": 31,
     "metadata": {},
     "output_type": "execute_result"
    }
   ],
   "source": [
    "'i\\'m a student'"
   ]
  },
  {
   "cell_type": "markdown",
   "id": "57051e57",
   "metadata": {},
   "source": [
    "### 연산 \n",
    "- concatenatation\n",
    "    - \"+\" => 공백 없이 결합하는 방법 \n",
    "- 곱하기\n",
    "    - \"*n => 공백 없이 문자열을 n번 복제하는 방법 "
   ]
  },
  {
   "cell_type": "code",
   "execution_count": 34,
   "id": "43180da6",
   "metadata": {},
   "outputs": [
    {
     "data": {
      "text/plain": [
       "'jackjack'"
      ]
     },
     "execution_count": 34,
     "metadata": {},
     "output_type": "execute_result"
    }
   ],
   "source": [
    "name = 'jack' \n",
    "name + name"
   ]
  },
  {
   "cell_type": "code",
   "execution_count": 35,
   "id": "ee43d1c5",
   "metadata": {},
   "outputs": [
    {
     "data": {
      "text/plain": [
       "'jackjackjackjack'"
      ]
     },
     "execution_count": 35,
     "metadata": {},
     "output_type": "execute_result"
    }
   ],
   "source": [
    "name*4"
   ]
  },
  {
   "cell_type": "code",
   "execution_count": 36,
   "id": "c061ca85",
   "metadata": {
    "scrolled": true
   },
   "outputs": [
    {
     "ename": "TypeError",
     "evalue": "'str' object does not support item assignment",
     "output_type": "error",
     "traceback": [
      "\u001b[1;31m---------------------------------------------------------------------------\u001b[0m",
      "\u001b[1;31mTypeError\u001b[0m                                 Traceback (most recent call last)",
      "\u001b[1;32m~\\AppData\\Local\\Temp/ipykernel_8576/370536942.py\u001b[0m in \u001b[0;36m<module>\u001b[1;34m\u001b[0m\n\u001b[0;32m      1\u001b[0m \u001b[1;31m#immutable\u001b[0m\u001b[1;33m\u001b[0m\u001b[1;33m\u001b[0m\u001b[0m\n\u001b[0;32m      2\u001b[0m \u001b[1;31m#문자열은 불변이기 때문에 에러가 남\u001b[0m\u001b[1;33m\u001b[0m\u001b[1;33m\u001b[0m\u001b[0m\n\u001b[1;32m----> 3\u001b[1;33m \u001b[0mname\u001b[0m\u001b[1;33m[\u001b[0m\u001b[1;36m1\u001b[0m\u001b[1;33m]\u001b[0m \u001b[1;33m=\u001b[0m \u001b[1;34m'e'\u001b[0m\u001b[1;33m\u001b[0m\u001b[1;33m\u001b[0m\u001b[0m\n\u001b[0m",
      "\u001b[1;31mTypeError\u001b[0m: 'str' object does not support item assignment"
     ]
    }
   ],
   "source": [
    "#immutable\n",
    "#문자열은 불변이기 때문에 에러가 남\n",
    "name[1] = 'e'"
   ]
  },
  {
   "cell_type": "markdown",
   "id": "c5f9d19a",
   "metadata": {},
   "source": [
    "### 슬라이싱, 추출\n",
    "- 문자열의 일부분을 떼어내는 작업\n",
    "- 대괄호 사용, 그 안에 오프셋을 지정\n",
    "- 오프셋은 0부터 시작한다. \n",
    "- 음수도 가능함, -1부터 시작함\n",
    "    jack \n",
    "    0123\n",
    "    -4 -1\n",
    "- 오프셋은 [시작:끝:스텝]\n",
    "- 시작은 포함, 끝은 포함하지 않음(이상:미만)\n",
    "- 디폴트 값 \n",
    "    - 시작의 디폴트 값은 '처음부터'\n",
    "    - 끝의 디폴트 값은 '끝까지'\n",
    "    - step 의 디폴트 값은 '1'"
   ]
  },
  {
   "cell_type": "code",
   "execution_count": 39,
   "id": "e42b2fc1",
   "metadata": {},
   "outputs": [
    {
     "name": "stdout",
     "output_type": "stream",
     "text": [
      "b\n",
      "d\n",
      "bir\n"
     ]
    }
   ],
   "source": [
    "day = 'birthday'\n",
    "print(day[0]) #가장 첫 문자 b\n",
    "print(day[-3]) #뒤에서 3번째 문자 d\n",
    "print(day[0:3]) #가장 앞에서부터 3번째 문자까지(t는 미포함)"
   ]
  },
  {
   "cell_type": "code",
   "execution_count": 47,
   "id": "30d4648c",
   "metadata": {},
   "outputs": [
    {
     "data": {
      "text/plain": [
       "('hello\\t', 'hello\\t')"
      ]
     },
     "execution_count": 47,
     "metadata": {},
     "output_type": "execute_result"
    }
   ],
   "source": [
    "# 처음부터 5까지 출력 \n",
    "sent[0:6], sent[:6]"
   ]
  },
  {
   "cell_type": "code",
   "execution_count": 48,
   "id": "054a95f2",
   "metadata": {},
   "outputs": [
    {
     "data": {
      "text/plain": [
       "'hlowrd'"
      ]
     },
     "execution_count": 48,
     "metadata": {},
     "output_type": "execute_result"
    }
   ],
   "source": [
    "#처음부터 끝까지 2스텝씩 출력\n",
    "sent[::2]"
   ]
  },
  {
   "cell_type": "code",
   "execution_count": 49,
   "id": "828f5d98",
   "metadata": {},
   "outputs": [
    {
     "data": {
      "text/plain": [
       "'dlrow\\tolleh'"
      ]
     },
     "execution_count": 49,
     "metadata": {},
     "output_type": "execute_result"
    }
   ],
   "source": [
    "# 모든 글자를 거꾸로 출력하세요 \n",
    "sent[::-1]"
   ]
  },
  {
   "cell_type": "code",
   "execution_count": 43,
   "id": "26d93491",
   "metadata": {},
   "outputs": [
    {
     "name": "stdout",
     "output_type": "stream",
     "text": [
      "benz\n",
      "hyndai\n",
      "['benz', 'porsche', 'bmw']\n"
     ]
    }
   ],
   "source": [
    "cars = ['benz','kia','porsche','lamborghini','bmw','hyndai']\n",
    "print(cars[0])\n",
    "print(cars[-1])\n",
    "print(cars[::2])\n",
    "#리스트에서도 슬라이싱을 할 수 있다. "
   ]
  },
  {
   "cell_type": "markdown",
   "id": "3881cee9",
   "metadata": {},
   "source": [
    "## NLTK\n",
    "- natural language toolkit\n",
    "- 자연어 분석을 위해 교육용으로 배포된 패캐지\n",
    "- 내장함수, 기능 \n",
    "    - 토크나이즈, 파싱, 태킹..."
   ]
  },
  {
   "cell_type": "code",
   "execution_count": 6,
   "id": "ba28c0a3",
   "metadata": {},
   "outputs": [],
   "source": [
    "#!pip install nltk"
   ]
  },
  {
   "cell_type": "code",
   "execution_count": 7,
   "id": "a933fa38",
   "metadata": {},
   "outputs": [
    {
     "data": {
      "text/plain": [
       "True"
      ]
     },
     "execution_count": 7,
     "metadata": {},
     "output_type": "execute_result"
    }
   ],
   "source": [
    "import nltk #가져오기 \n",
    "nltk.download('book',quiet = True) #접근하기/ 부분적으로 다운받기"
   ]
  },
  {
   "cell_type": "code",
   "execution_count": 8,
   "id": "fd91141d",
   "metadata": {},
   "outputs": [
    {
     "name": "stdout",
     "output_type": "stream",
     "text": [
      "*** Introductory Examples for the NLTK Book ***\n",
      "Loading text1, ..., text9 and sent1, ..., sent9\n",
      "Type the name of the text or sentence to view it.\n",
      "Type: 'texts()' or 'sents()' to list the materials.\n",
      "text1: Moby Dick by Herman Melville 1851\n",
      "text2: Sense and Sensibility by Jane Austen 1811\n",
      "text3: The Book of Genesis\n",
      "text4: Inaugural Address Corpus\n",
      "text5: Chat Corpus\n",
      "text6: Monty Python and the Holy Grail\n",
      "text7: Wall Street Journal\n",
      "text8: Personals Corpus\n",
      "text9: The Man Who Was Thursday by G . K . Chesterton 1908\n"
     ]
    }
   ],
   "source": [
    "from nltk import book #가져오기"
   ]
  },
  {
   "cell_type": "code",
   "execution_count": 9,
   "id": "db0ca062",
   "metadata": {},
   "outputs": [
    {
     "data": {
      "text/plain": [
       "['[',\n",
       " 'Moby',\n",
       " 'Dick',\n",
       " 'by',\n",
       " 'Herman',\n",
       " 'Melville',\n",
       " '1851',\n",
       " ']',\n",
       " 'ETYMOLOGY',\n",
       " '.']"
      ]
     },
     "execution_count": 9,
     "metadata": {},
     "output_type": "execute_result"
    }
   ],
   "source": [
    "moby = book.text1\n",
    "moby.tokens[:10] #토큰에 접근하는 방법 \n",
    "#토큰 : 프로그래밍에서 사용하는 단어의 단위 \n",
    "# i'm not a coward.\n",
    "    #I'm/ I, 'm/ I, am -> 어떤 방법으로 나눌지가 달라짐"
   ]
  },
  {
   "cell_type": "code",
   "execution_count": 55,
   "id": "a17535b4",
   "metadata": {},
   "outputs": [
    {
     "data": {
      "text/plain": [
       "260819"
      ]
     },
     "execution_count": 55,
     "metadata": {},
     "output_type": "execute_result"
    }
   ],
   "source": [
    "#1. 길이세기\n",
    "len(moby)"
   ]
  },
  {
   "cell_type": "code",
   "execution_count": 56,
   "id": "f5b40e25",
   "metadata": {},
   "outputs": [
    {
     "data": {
      "text/plain": [
       "19317"
      ]
     },
     "execution_count": 56,
     "metadata": {},
     "output_type": "execute_result"
    }
   ],
   "source": [
    "#2. 중복 없이 쓰인 단어의 수는 몇 개?\n",
    "len(set(moby))"
   ]
  },
  {
   "cell_type": "markdown",
   "id": "375206e6",
   "metadata": {},
   "source": [
    "- list\n",
    "    - ['a',a,True]\n",
    "    - 순서가 있고\n",
    "    - 중복이 허용됨\n",
    "    - list()\n",
    "- set\n",
    "    - {'a',a,True}\n",
    "    - 순서 없고\n",
    "    - 중복 허용 안됨 \n",
    "    - set()\n",
    "    - 수학의 집합 개념과 같음"
   ]
  },
  {
   "cell_type": "code",
   "execution_count": 59,
   "id": "cb1161a7",
   "metadata": {},
   "outputs": [
    {
     "data": {
      "text/plain": [
       "['kia', 'hyundai', 'kia', 'benz', 'bmw', 'porsche', 'bmw']"
      ]
     },
     "execution_count": 59,
     "metadata": {},
     "output_type": "execute_result"
    }
   ],
   "source": [
    "cars = ['kia', 'hyundai','kia','benz', 'bmw','porsche','bmw']\n",
    "cars #리스트는 중복이 허용됨"
   ]
  },
  {
   "cell_type": "code",
   "execution_count": 60,
   "id": "38c27128",
   "metadata": {},
   "outputs": [
    {
     "data": {
      "text/plain": [
       "{'benz', 'bmw', 'hyundai', 'kia', 'porsche'}"
      ]
     },
     "execution_count": 60,
     "metadata": {},
     "output_type": "execute_result"
    }
   ],
   "source": [
    "set(cars) #set은 중복을 허용하지 않음"
   ]
  },
  {
   "cell_type": "code",
   "execution_count": 61,
   "id": "5fe10410",
   "metadata": {},
   "outputs": [
    {
     "data": {
      "text/plain": [
       "0.07406285585022564"
      ]
     },
     "execution_count": 61,
     "metadata": {},
     "output_type": "execute_result"
    }
   ],
   "source": [
    "#lexical diversity => 얼마나 다양한 단어가 쓰였는지 \n",
    "len(set(moby)) / len(moby)"
   ]
  },
  {
   "cell_type": "code",
   "execution_count": 74,
   "id": "e5534f08",
   "metadata": {},
   "outputs": [
    {
     "data": {
      "text/plain": [
       "['porsche', 'kia', 'kia', 'hyundai', 'bmw', 'bmw', 'benz']"
      ]
     },
     "execution_count": 74,
     "metadata": {},
     "output_type": "execute_result"
    }
   ],
   "source": [
    "#정렬 \n",
    "sorted(cars) #오름차순\n",
    "sorted(cars, reverse=True) #내림차순"
   ]
  },
  {
   "cell_type": "code",
   "execution_count": 64,
   "id": "128cb01a",
   "metadata": {},
   "outputs": [
    {
     "data": {
      "text/plain": [
       "['.',\n",
       " '1851',\n",
       " 'Dick',\n",
       " 'ETYMOLOGY',\n",
       " 'Herman',\n",
       " 'Melville',\n",
       " 'Moby',\n",
       " '[',\n",
       " ']',\n",
       " 'by']"
      ]
     },
     "execution_count": 64,
     "metadata": {},
     "output_type": "execute_result"
    }
   ],
   "source": [
    "sorted(moby[:10]) #1.처음부터 10개를 뽑음 + 2.정렬"
   ]
  },
  {
   "cell_type": "code",
   "execution_count": 65,
   "id": "505492f9",
   "metadata": {},
   "outputs": [
    {
     "data": {
      "text/plain": [
       "['!', '!', '!', '!', '!', '!', '!', '!', '!', '!']"
      ]
     },
     "execution_count": 65,
     "metadata": {},
     "output_type": "execute_result"
    }
   ],
   "source": [
    "sorted(moby)[:10] #1.정렬 + 2. 정렬 된 후에 처음부터 10개를 뽑음"
   ]
  },
  {
   "cell_type": "markdown",
   "id": "341c6631",
   "metadata": {},
   "source": [
    "### Quiz 2\n",
    "- text6 가져와서 토큰을 변수에 담고\n",
    "- 중복 없는 셋으로 저장하고 내림차순 \n",
    "    - 앞에서 10개 단어 출력\n",
    "    - 단어에 z가 있으면 대문자로 바꾸시오\n",
    "    - z가 없는데 4자 이상이면 끝 글자를 대문자로 바꾸라"
   ]
  },
  {
   "cell_type": "code",
   "execution_count": 10,
   "id": "9eb8e3eb",
   "metadata": {},
   "outputs": [
    {
     "name": "stdout",
     "output_type": "stream",
     "text": [
      "['Zoosh', 'Zoop', 'Zoo', 'Zone', 'Zhiv', 'yourselF', 'yourS', 'youR', 'younG', 'you']\n"
     ]
    }
   ],
   "source": [
    "first_tokens = book.text6\n",
    "sorted_tokens = sorted(set(first_tokens), reverse = True)\n",
    "sorted_10 = sorted_tokens[:10]\n",
    "word_list = []\n",
    "for i in sorted_10:\n",
    "    if 'z' in i:\n",
    "        capital_z = i.capitalize()\n",
    "        word_list.append(capital_z)\n",
    "    elif('z' not in i) and (len(i) >= 4):\n",
    "        not_z = i[::-1].capitalize()\n",
    "        not_z_for = not_z[::-1]\n",
    "        word_list.append(not_z_for)\n",
    "    else:\n",
    "        word_list.append(i)\n",
    "print(word_list)\n",
    "\n"
   ]
  },
  {
   "cell_type": "markdown",
   "id": "9aab7cb1",
   "metadata": {},
   "source": [
    "### Quiz 3\n",
    "- 주민번호, 휴대폰 번호, 이메일 주소 입력 받는다. \n",
    "- 주민번호, 휴대폰 번호는 숫자만 입력받는다. \n",
    "- 이메일 주소는 아이디만 입력받는다. \n",
    "    - 1. '당신은 {}년 {}월 {}일 출생의 {남/여}입니다.'\n",
    "    - 2. 휴대폰 번호: -으로 연결 000-0000-0000\n",
    "    - 3. 이메일 주소 : xxx@gmail.com "
   ]
  },
  {
   "cell_type": "code",
   "execution_count": 1,
   "id": "2ffeda86",
   "metadata": {},
   "outputs": [
    {
     "name": "stdout",
     "output_type": "stream",
     "text": [
      "주민등록번호를 입력하세요:0103311234567\n",
      "휴대폰 번호를 입력하세요:01011112345\n",
      "이메일 주소를 입력하세요:asdf\n",
      "당신은 1901년 03월 31일 출생의 남성입니다\n",
      "휴대폰 번호: 010-1111-2345\n",
      "이메일 주소: asdf@gmail.com\n"
     ]
    }
   ],
   "source": [
    "social_num = input('주민등록번호를 입력하세요:')\n",
    "phone_num = input('휴대폰 번호를 입력하세요:')\n",
    "email_num = input('이메일 주소를 입력하세요:')\n",
    "\n",
    "#주민번호 012345-6789123\n",
    "if int(social_num[6]) < 3 :\n",
    "    year = '19' + social_num[:2]\n",
    "else : \n",
    "    year = '20' + social_num[:2]\n",
    "\n",
    "month = social_num[2:4]\n",
    "day = social_num[4:6]\n",
    "\n",
    "#주민번호 성별 \n",
    "    ##1900년대 남자:1 여자:2\n",
    "    ##2000년대 남자:3 여자:4\n",
    "if int(social_num[6]) == 2: \n",
    "    sex = '여성'\n",
    "elif int(social_num[6]) == 4:\n",
    "    sex = '여성'\n",
    "else:\n",
    "    sex = '남성'\n",
    "    \n",
    "print(f'당신은 {year}년 {month}월 {day}일 출생의 {sex}입니다')\n",
    "print(f'휴대폰 번호: {phone_num[:3]}-{phone_num[3:7]}-{phone_num[7:11]}')\n",
    "print(f'이메일 주소: {email_num}@gmail.com')\n",
    "    "
   ]
  },
  {
   "cell_type": "code",
   "execution_count": null,
   "id": "27f31776",
   "metadata": {},
   "outputs": [],
   "source": []
  }
 ],
 "metadata": {
  "kernelspec": {
   "display_name": "Python 3 (ipykernel)",
   "language": "python",
   "name": "python3"
  },
  "language_info": {
   "codemirror_mode": {
    "name": "ipython",
    "version": 3
   },
   "file_extension": ".py",
   "mimetype": "text/x-python",
   "name": "python",
   "nbconvert_exporter": "python",
   "pygments_lexer": "ipython3",
   "version": "3.9.7"
  }
 },
 "nbformat": 4,
 "nbformat_minor": 5
}
